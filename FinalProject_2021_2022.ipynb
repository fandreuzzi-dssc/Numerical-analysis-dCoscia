{
 "cells": [
  {
   "cell_type": "code",
   "execution_count": 178,
   "id": "287dadb3",
   "metadata": {
    "id": "3fe94688"
   },
   "outputs": [],
   "source": [
    "%matplotlib inline\n",
    "from numpy import *\n",
    "from matplotlib.pyplot import *\n",
    "import time  # for testing\n",
    "import pandas as pd # for table"
   ]
  },
  {
   "cell_type": "markdown",
   "id": "492d4ffc",
   "metadata": {
    "id": "8184faab"
   },
   "source": [
    "Consider the following one-dimensional PDE:\n",
    "$$\n",
    "-u_{xx}(x) = f(x)\\quad\\mathrm{ in }\\ \\Omega = (0, \\pi)\n",
    "$$\n",
    "$$\n",
    "u(x) = 0, \\quad\\mathrm{ on }\\ \\partial\\Omega = \\{0, \\pi\\}\n",
    "$$\n",
    "\n",
    "Given the following $4^{th}$ order finite difference approximation of the second order derivative:\n",
    "\n",
    "$$u_{xx}(x_i) = \\frac{-u_{i-2}+16u_{i-1}-30u_i+16u_{i+1}-u_{i+2}}{12h^2}$$\n",
    "\n",
    "Implement a function that given the domain interval, the forcing function, the number of discretization points, the boundary conditions, returns the matrix $A$ and the the right hand side $b$."
   ]
  },
  {
   "cell_type": "code",
   "execution_count": 179,
   "id": "326ea886",
   "metadata": {
    "id": "1c562f13"
   },
   "outputs": [],
   "source": [
    "def finDif(omega,f,n,bc):\n",
    "    \"\"\"\n",
    "    Function returning finite different matrix for fourth order difference approximation\n",
    "    of second order derivative. \n",
    "    \n",
    "    \n",
    "    info: Given a one dimensional PDE of the form:\n",
    "    \n",
    "                            -u''(x) = f(x) , insiede boundary \n",
    "                            u(x) = 0 , in boundary\n",
    "                            \n",
    "          The function returns a numpy 2d array A and \n",
    "          a numpy 1d array b such that:\n",
    "          \n",
    "                              A * u = b\n",
    "        \n",
    "          where u is the solution vector to the PDE\n",
    "          problem.\n",
    "          \n",
    "    additional: The function uses linear discretization points \n",
    "                in the domain of the PDE. \n",
    "                \n",
    "    example:    omega = [0,pi]         # domain interval\n",
    "                f = lambda x : sin(x)\n",
    "                n=400                  # discretization points\n",
    "                bc = [0,0]             # boundary conditions\n",
    "                \n",
    "                A, b = finDif(omega, f, n, bc)  # apply function\n",
    "                u = numpy.linalg.solve(A, b)    # solving linear system\n",
    "                x = numpy.linspace(omega[0], omega[1], num = numpy.shape(u)[0]) # discretization points\n",
    "                plot(x, u)  # plotting the solution\n",
    "                \n",
    "    \"\"\"\n",
    "    \n",
    "    h = (omega[1] - omega[0]) / ( n - 1 )     # choosing the step size in the interval omega\n",
    "    x_i = array([i*h for i in range(0,n)])    # discretization points in the interval omega\n",
    "    b = array(f(x_i))                         # calculating the function at discretization points\n",
    "    b[0], b[n-1] = bc                         # setting boundary conditions         \n",
    "    A = diag([-1 for i in range(0,n-2)], -2)  \\\n",
    "    + diag([16 for i in range(0,n-1)], -1)    \\\n",
    "    + diag([-30 for i in range(0,n)])         \\\n",
    "    + diag([16 for i in range(0,n-1)], 1)     \\\n",
    "    + diag([-1 for i in range(0,n-2)], 2)     # creating the A matrix\n",
    "    return - A / (12*(h**2)), b"
   ]
  },
  {
   "cell_type": "markdown",
   "id": "29b8cc3a",
   "metadata": {
    "id": "c21bb21e"
   },
   "source": [
    "Call the function using:"
   ]
  },
  {
   "cell_type": "code",
   "execution_count": 180,
   "id": "53f24a94",
   "metadata": {
    "id": "23af8831"
   },
   "outputs": [],
   "source": [
    "omega = [0,pi]\n",
    "f = lambda x : sin(x)\n",
    "n=400\n",
    "bc = [0,0]\n",
    "A, b = finDif(omega, f, n, bc)"
   ]
  },
  {
   "cell_type": "markdown",
   "id": "4e9736b3",
   "metadata": {
    "id": "4f8a7c6f"
   },
   "source": [
    "Implement two functions that compute the LU and the Cholesky factorization of the system matrix $A$"
   ]
  },
  {
   "cell_type": "code",
   "execution_count": 181,
   "id": "cd143f63",
   "metadata": {
    "id": "47468a37"
   },
   "outputs": [],
   "source": [
    "def LU(A, pivoting = False):\n",
    "    \"\"\"\n",
    "    Operating LU factorization on matrix A\n",
    "    \n",
    "    info : The function works only for square matrices. By default pivoting is \n",
    "           omitted, an exeption is thrown in case pivoting is needed. \n",
    "           The function returns the lower triangular matrix (L) and the upper\n",
    "           triangular matrix (U) as a numpy 2D array. Optionally the permutation\n",
    "           matrix is return if `pivoting` is set to True.\n",
    "           \n",
    "    input : A => numpy 2D array as square matrix \n",
    "    \n",
    "    param : pivoting => boolean :  True => Gauss (partial) pivoting algorithm is performed. \n",
    "                                   False => Gauss algorithm is performed.\n",
    "    \n",
    "    return: L => numpy 2D array as square matrix representing the lower triangular matrix.\n",
    "            U => numpy 2D array as square matrix representing the upper triangular matrix.\n",
    "            \n",
    "    optional:\n",
    "            P  => numpy 2D array as square matrix representing the permutation matrix \n",
    "                  only if `pivoting` is set to True.\n",
    "    \"\"\"\n",
    "    \n",
    "    assert(shape(A)[0] == shape(A)[1]), \"Invalid Operation, check 'info' by typing  ?LU\"\n",
    "    \n",
    "    A = array(A, dtype = 'float64')        # convertig to a numpy array\n",
    "    n = shape(A)[0]                        # number of rows and columns\n",
    "    P = identity(n)     # permutation matrix\n",
    "    L = zeros((n, n))  # lower triangular matrix\n",
    "    \n",
    "    for k in range(n - 1):\n",
    "        if(pivoting):                        # pivoting done only if asked by user\n",
    "            assert( A[k, k] != 0 ), \"Division by zero, matrix A not full rank, Gauss decomposition invalid\"\n",
    "            r = k + abs(A[k:, k]).argmax()   # looking at best pivot\n",
    "            A[[k, r]] = A[[r, k]]            # exchanging rows and columns\n",
    "            L[[k, r]] = L[[r, k]]            # exchanging rows and columns\n",
    "            P_now = identity(n)              # inizialization new permutation matrix in step k\n",
    "            P_now[[k, r]] = P_now[[r, k]]    # exchanging rows and columns\n",
    "            P = dot(P, P_now)                # updating total permutation matrix\n",
    "        assert( A[k, k] != 0 ), \"Division by zero, use `pivoting = True`\"\n",
    "        L[(k+1):,k] = A[(k+1):,k] / A[k,k]   # taking the L coefficients\n",
    "        A[k+1:] -= L[k+1:,k][:,None]*A[k,:]  # gauss k-step update of matrix A\n",
    "        \n",
    "    fill_diagonal(L, 1) # adding 1 to L matrix diagonal\n",
    "    \n",
    "    if(pivoting):\n",
    "        return L, A, P\n",
    "    \n",
    "    return L, A\n",
    "\n",
    "L, U = LU(A)"
   ]
  },
  {
   "cell_type": "code",
   "execution_count": 182,
   "id": "3367087b",
   "metadata": {
    "id": "193ebfed"
   },
   "outputs": [],
   "source": [
    "def cholesky(A, assumption = True):\n",
    "    \"\"\"\n",
    "    Operating cholesky factorization on matrix A\n",
    "    \n",
    "    info : The function works only for symmetric positive definite matrices. \n",
    "           The assumptions are checked before performing the operations, \n",
    "           optionally by setting `assumption = False` the assumption are \n",
    "           not checked, which could result in a gain in performance but \n",
    "           results could be wrong (nan or inf numbers).\n",
    "           \n",
    "    input : A => numpy 2D array as square matrix \n",
    "    \n",
    "    param : pivoting => boolean :  True => Assumptions for Cholesky factorization are checked. \n",
    "                                   False => Assumptions for Cholesky factorization are not checked.\n",
    "                                   \n",
    "    return: L => numpy 2D array as square matrix representing the lower cholesky matrix.\n",
    "            L.tranpose() => numpy 2D array as square matrix representing the upper cholesky matrix.\n",
    "    \"\"\"\n",
    "    \n",
    "    if(assumption):\n",
    "        assert( shape(A)[0] == shape(A)[1] ), \"Invalid Operation, check 'info' by typing  ?cholesky\"\n",
    "        assert( allclose( A, A.transpose() ) ), \"Matrix not symmetric, Cholesky factorization aborted\"\n",
    "        _, U = LU(A, pivoting=False)\n",
    "        assert(all(diag(U) > 0)), \"Matrix not positive definite, Cholesky factorization aborted\"\n",
    "     \n",
    "    A = array(A, dtype = 'float64')           # converting to numpy array\n",
    "    L = zeros_like(A)      # initialization L matrix\n",
    "    \n",
    "    L[0, 0] = np.sqrt(A[0, 0])\n",
    "    \n",
    "    for i in range(1, shape(A)[0]):\n",
    "        for j in range(i):\n",
    "            L[j, i] = ( A[i, j] - dot( L[:j, i], L[:j, j] ) ) / L[j, j]\n",
    "        L[i, i] = sqrt( A[i, i] - dot( L[:i, i], L[:i, i] ) )\n",
    "    \n",
    "    return L, L.transpose()\n",
    "\n",
    "HT, H = cholesky(A)"
   ]
  },
  {
   "cell_type": "markdown",
   "id": "9a0483b5",
   "metadata": {
    "id": "41eb8436"
   },
   "source": [
    "Implement forward and backward substitution functions to exploit the developed factorization methods to solve the derived linear system of equations."
   ]
  },
  {
   "cell_type": "code",
   "execution_count": 183,
   "id": "b0ac1cce",
   "metadata": {
    "id": "019cf0df"
   },
   "outputs": [],
   "source": [
    "def L_solve(L,rhs):\n",
    "    \"\"\"\n",
    "    Operating a forward substitutions algorithm to solve a system of linear equation\n",
    "    for lower triagular matrix.\n",
    "    \n",
    "    info : The function works only for lower triangular square matrices. The\n",
    "           assumption that L is lower triangular is not checked, but checks\n",
    "           on not null diagonal elements for L are enable.\n",
    "           \n",
    "    input : L => numpy 2D array as square lower triangular matrix \n",
    "            rhs => numpy 1D array as right hand side of the system\n",
    "                                   \n",
    "    return: x => numpy 1D array as solution of the system.\n",
    "    \"\"\"\n",
    "    \n",
    "    assert(shape(L)[0] == shape(L)[1]), \"Invalid Operation: not square matrix, check 'info' by typing  ?L_solve\"\n",
    "    \n",
    "    L = array(L, dtype = 'float64')          # definition of L\n",
    "    rhs = array(rhs, dtype = 'float64')      # definition of rhs\n",
    "    x = zeros_like(rhs, dtype = 'float64')   # definition of x\n",
    "    \n",
    "    x[0] = rhs[0] / L[0, 0]\n",
    "    for i in range(1, L.shape[0]):\n",
    "        assert(L[i, i] != 0), \"Invalid operation, check L is a lower triangular matrix with not null diagonal\"\n",
    "        x[i] = ( rhs[i] - dot(L[i, :i], x[:i] ) ) / L[i, i]\n",
    "        \n",
    "    return x"
   ]
  },
  {
   "cell_type": "code",
   "execution_count": 184,
   "id": "78c10209",
   "metadata": {
    "id": "26ce17c4"
   },
   "outputs": [],
   "source": [
    "def U_solve(U,rhs):\n",
    "    \"\"\"\n",
    "    Operating a backward substitutions algorithm to solve a system of linear equation\n",
    "    for upper triagular matrix.\n",
    "    \n",
    "    info : The function works only for upper triangular square matrices. The\n",
    "           assumption that U is upper triangular is not checked, but checks\n",
    "           on not null diagonal elements for U are enable.\n",
    "           \n",
    "    input : U => numpy 2D array as square upper triangular matrix \n",
    "            rhs => numpy 1D array as right hand side of the system\n",
    "                                   \n",
    "    return: x => numpy 1D array as solution of the system.\n",
    "    \"\"\"\n",
    "    \n",
    "    assert(shape(U)[0] == shape(U)[1]), \"Invalid Operation: not square matrix, check 'info' by typing  ?U_solve\"\n",
    "    \n",
    "    U = array(U, dtype = 'float64')         # definition of U\n",
    "    rhs = array(rhs, dtype = 'float64')     # definition of rhs\n",
    "    x = zeros_like(rhs, dtype = 'float64')  # definition of x\n",
    "    \n",
    "    x[U.shape[0] - 1] = rhs[U.shape[0] - 1] / U[U.shape[0] - 1, U.shape[0] - 1]\n",
    "    for i in range(U.shape[0] -1 , -1, -1):\n",
    "        assert(U[i, i] != 0), \"Invalid operation, check U is a upper triangular matrix with not null diagonal\"\n",
    "        x[i] = ( rhs[i] - dot(U[i, i+1:], x[i+1:]) ) / U[i, i]   \n",
    "        \n",
    "    return x"
   ]
  },
  {
   "cell_type": "markdown",
   "id": "e245e3d3",
   "metadata": {
    "id": "08ac9ba1"
   },
   "source": [
    "Solve the derived linear system using the implemented functions and plot the computed solution:"
   ]
  },
  {
   "cell_type": "code",
   "execution_count": 185,
   "id": "bd4590f7",
   "metadata": {
    "id": "7c1de4f3"
   },
   "outputs": [],
   "source": [
    "def solve_system(A, b, pivoting = True):\n",
    "    \"\"\"\n",
    "    Function for solving linear system exploiting LU factorization\n",
    "    \n",
    "    info : The function works only for square matrices. The\n",
    "           assumption that A is square is checked, throwing an\n",
    "           error otherwise.\n",
    "           \n",
    "    input : A => numpy 2D array as square  matrix \n",
    "            b => numpy 1D array as right hand side of the system\n",
    "        \n",
    "    param : pivoting => boolean :  True => Gauss (partial) pivoting algorithm is performed. \n",
    "                                   False => Gauss algorithm is performed.\n",
    "                      \n",
    "    return: x => numpy 1D array as solution of the system.\n",
    "    \"\"\"\n",
    "    \n",
    "    assert(shape(A)[0] == shape(A)[1]), \"Invalid Operation, check 'info' by typing  ?solve_system\"\n",
    "    \n",
    "    if(pivoting):\n",
    "        L, U, P = LU(A, pivoting)\n",
    "    else:\n",
    "        L, U = LU(A, pivoting)\n",
    "        P = identity(shape(A)[0])\n",
    "       \n",
    "    y = L_solve(L, matmul(b,P))\n",
    "    x = U_solve(U, y)\n",
    "    \n",
    "    return x"
   ]
  },
  {
   "cell_type": "markdown",
   "id": "0d6d679c",
   "metadata": {
    "scrolled": false
   },
   "source": [
    "### Additional\n",
    "\n",
    "Before continuing let's check if all of the functions previusly implemented work correctly. In function `my_test()` implemented below it is possible to find different tests for the previous functions. The tests are:\n",
    "* LU factorization without pivoting - function: `LU(*,pivoting = False)`\n",
    "* LU factorization with pivoting - function: `LU(*,pivoting = True)`\n",
    "* Cholesky factorization - function `cholesky()`\n",
    "* Forward  implementation for lower triangular matrix system of equations - function `L_solve()`\n",
    "* Backward implementation for upper triangular matrix system of equations - function `U_solve()`\n",
    "* Solving system of linear equation - function `solve_system()`\n",
    "\n",
    "The test starts by passing at `my_test()` a matrix with the following characteristcs:\n",
    "\n",
    "* numpy 2D array\n",
    "* square matrix\n",
    "* symmetric and positive definite (only for cholesky)\n",
    "\n",
    "Note that if cholesky assumptions are not fullfilled the test will not be performed and a warning will be throw. Finally, the function can be called by simply typing `my_test()` for launching the default tests. Otherwise, if one wants to check for a specific matrix, simply type:\n",
    "\n",
    "``` python\n",
    "A =  np.array([[2, 5, 8], [5, 2, 2], [7, 5, 6]])\n",
    "my_test(A)\n",
    "```\n",
    "Note, this will throw a warning since Cholesky factorization is not possible."
   ]
  },
  {
   "cell_type": "code",
   "execution_count": 186,
   "id": "010b5629",
   "metadata": {},
   "outputs": [],
   "source": [
    "def my_test(A = np.array([[2, 5, 8, 7], [5, 2, 2, 8], [7, 5, 6, 6], [5, 4, 4, 8]])):   \n",
    "    \"\"\"\n",
    "    something to write...\n",
    "    \"\"\"\n",
    "    error = 0\n",
    "    note = \"nada\"\n",
    "    tot = 5\n",
    "    a = np.random.rand(shape(A)[0])\n",
    "    \n",
    "    # Checking if the matrix is square\n",
    "    assert(shape(A)[0] == shape(A)[1]), \"Invalid matrix, use square matrix\"\n",
    "    \n",
    "    # Checking if the matrix is singular\n",
    "    L, U, P = LU(A, pivoting=True)\n",
    "    assert(abs(L.diagonal().prod() * U.diagonal().prod() ) != 0), \"Invalid matrix, use not singular matrix\"\n",
    "        \n",
    "    print(\"\\033[1;30m=========== TEST STARTING ===========\\033\")\n",
    "    start_time = time.time()\n",
    "    # FIRST TEST: LU WITHOUT PIVOTING - function: LU(*,pivoting = False)\n",
    "    L, U = LU(A, pivoting=False)\n",
    "    \n",
    "    try:\n",
    "        assert(np.allclose(A - L @ U, np.zeros_like(A))), \"LU factorization without pivoting failed\"\n",
    "    except AssertionError as e:\n",
    "        error += 1\n",
    "        print(\"FAILED:\", e)\n",
    "    \n",
    "        \n",
    "    # SECOND TEST: LU WITH PIVOTING - function: LU(*,pivoting = True)\n",
    "    L, U, P = LU(A, pivoting=True)\n",
    "    try:\n",
    "        assert(np.allclose(A - P @ L @ U, np.zeros_like(A))), \"LU factorization with pivoting failed\"\n",
    "    except AssertionError as e:\n",
    "        error += 1\n",
    "        print(\"FAILED:\", e)\n",
    "\n",
    "        \n",
    "    # THIRD TEST: CHOLESKY FACTORIZATION - function: cholesky()\n",
    "    if(allclose( A, A.transpose())):\n",
    "        _, U = LU(A, pivoting=False)\n",
    "        if(all(diag(U) > 0)):\n",
    "            HT, H = cholesky(A)\n",
    "            try:\n",
    "                assert(np.allclose(A - H @ HT, np.zeros_like(A))), \"Cholesky factorization failed\"\n",
    "            except AssertionError as e:\n",
    "                error += 1\n",
    "                print(\"FAILED:\", e)\n",
    "            note = \"not\"\n",
    "            tot = 6\n",
    "             \n",
    "    # FOURTH TEST: LOWER MATRIX SOLVER - function: L_solve()\n",
    "    L, U = LU(A, pivoting=False)\n",
    "    a_L = L_solve(L, a)\n",
    "    try:\n",
    "        assert(np.allclose(a - matmul(L, a_L), np.zeros_like(a))), \"L_solve() failed in solving linear system\"\n",
    "    except AssertionError as e:\n",
    "        error += 1\n",
    "        print(\"FAILED:\", e)\n",
    "             \n",
    "    # FIFTH TEST: UPPER MATRIX SOLVER - function: U_solve()\n",
    "    L, U = LU(A, pivoting=False)\n",
    "    a_U = U_solve(U, a)\n",
    "    try:\n",
    "        assert(np.allclose(a - matmul(U, a_U), np.zeros_like(a))), \"U_solve() failed in solving linear system\"\n",
    "    except AssertionError as e:\n",
    "        error += 1\n",
    "        print(\"FAILED:\", e)\n",
    "\n",
    "    # SIXTH TEST: SOLVER LINEAR SYSTEM - function solve_system()\n",
    "    a_solve = solve_system(A, a)\n",
    "    try:\n",
    "        assert(np.allclose(a - matmul(A, a_solve), np.zeros_like(a))), \"solve_system() failed in solving linear system\"\n",
    "    except AssertionError as e:\n",
    "        error += 1\n",
    "        print(\"FAILED:\", e)\n",
    "        \n",
    "    print(\"\")\n",
    "    print(\"\\033[1;34m TOTAL TIME: %0.3f ms\\033\" %((time.time()-start_time)* 1000))\n",
    "    print(\"\\033[1;33m PASSED: %.0f \\033[0m\" %(tot - error))\n",
    "    print(\"\\033[1;31m FAILED: %.0f \\033[0m\" % error)\n",
    "    if(note == \"nada\"):\n",
    "        print(\"\")\n",
    "        print(\"\\033[1;34m WARNING Cholesky factorization not performed, matrix not symmetric\")\n",
    "    print(\"\")\n",
    "    print(\"\\033[1;30m============= TEST END ==============\\033 \\n\")"
   ]
  },
  {
   "cell_type": "code",
   "execution_count": 187,
   "id": "f127b50f",
   "metadata": {
    "scrolled": true
   },
   "outputs": [
    {
     "name": "stdout",
     "output_type": "stream",
     "text": [
      "\u001b[1;30m=========== TEST STARTING ===========\u001b\n",
      "\n",
      "\u001b[1;34m TOTAL TIME: 3.956 ms\u001b\n",
      "\u001b[1;33m PASSED: 5 \u001b[0m\n",
      "\u001b[1;31m FAILED: 0 \u001b[0m\n",
      "\n",
      "\u001b[1;34m WARNING Cholesky factorization not performed, matrix not symmetric\n",
      "\n",
      "\u001b[1;30m============= TEST END ==============\u001b \n",
      "\n",
      "\u001b[1;30m=========== TEST STARTING ===========\u001b\n",
      "\n",
      "\u001b[1;34m TOTAL TIME: 2.622 ms\u001b\n",
      "\u001b[1;33m PASSED: 6 \u001b[0m\n",
      "\u001b[1;31m FAILED: 0 \u001b[0m\n",
      "\n",
      "\u001b[1;30m============= TEST END ==============\u001b \n",
      "\n"
     ]
    }
   ],
   "source": [
    "# Here few examples:\n",
    "\n",
    "# Default test (Warning for cholesky)\n",
    "my_test()\n",
    "              \n",
    "# All tests\n",
    "A =  np.array([[2, 0], [0, 1]])\n",
    "my_test(A)\n",
    "\n",
    "\n",
    "# Singular matrix error\n",
    "#print(\"Second test\")\n",
    "#A =  np.array([[2, 1], [2, 1]])\n",
    "#my_test(A) # error\n",
    "\n",
    "# Not square matrix error\n",
    "#print(\"Second test\")\n",
    "#A =  np.array([[2, 1], [3, 1], [4, 0]])\n",
    "#my_test(A) # error"
   ]
  },
  {
   "cell_type": "markdown",
   "id": "5a37ca17",
   "metadata": {},
   "source": [
    "Nice, no errors! Now thats everything works, let's solve the initial problem"
   ]
  },
  {
   "cell_type": "code",
   "execution_count": 188,
   "id": "ad3f62e2",
   "metadata": {},
   "outputs": [
    {
     "data": {
      "image/png": "[encoded data removed]",
      "text/plain": [
       "<Figure size 432x288 with 1 Axes>"
      ]
     },
     "metadata": {
      "needs_background": "light"
     },
     "output_type": "display_data"
    }
   ],
   "source": [
    "def solve_and_plot(omega,f,n,bc, plotty = True):\n",
    "    \"\"\"\n",
    "    Function for solving and plotting the solution of a finite\n",
    "    difference problem.\n",
    "    \n",
    "    info: Given a one dimensional PDE of the form:\n",
    "    \n",
    "                            -u''(x) = f(x) , insiede boundary \n",
    "                            u(x) = 0 , in boundary\n",
    "                            \n",
    "          The function solves the problem and plot the solution\n",
    "          \n",
    "    param: plotty => boolean :  True => Plot of the solution is performed. \n",
    "                                False => Plot of the solution is performed.\n",
    "    \n",
    "    return: x => numpy 1D array representing discretization points\n",
    "            f_solve => numpy 1D array representing u(x)\n",
    "    \"\"\"\n",
    "    A, b = finDif(omega, f, n, bc)\n",
    "    f_solve = solve_system(A, b, pivoting = True)\n",
    "    x = linspace(omega[0], omega[1], num = shape(f_solve)[0]) # discretization points\n",
    "    if(plotty):\n",
    "        plot(x, f_solve)\n",
    "        xticks(arange(0, 1.1*pi, step=(pi/4)), ['0','π/4', 'π/2','3π/4','π'])\n",
    "        xlabel(\"$\\Omega$\", fontsize=15)\n",
    "    return x, f_solve\n",
    "\n",
    "omega = [0,pi]\n",
    "f = lambda x : sin(x)\n",
    "n=400\n",
    "bc = [0,0]\n",
    "x, f_solve = solve_and_plot(omega,f,n,bc)"
   ]
  },
  {
   "cell_type": "markdown",
   "id": "e799712c",
   "metadata": {
    "id": "62cdfe65"
   },
   "source": [
    "Considering the new domain $\\Omega = (0,1)$ and the forcing term $f(x) = x(1-x)$ with B.C. $u(x) = 0$, on $\\partial \\Omega = {0,1}$ produce a plot and a table where you show the decay of the error w.r.t. the number of grid points.\n",
    "(The analytical solution for the above problems is $u_{an} = \\frac{x^4}{12} - \\frac{x^3}{6} + \\frac{x}{12}$)"
   ]
  },
  {
   "cell_type": "code",
   "execution_count": 189,
   "id": "37c6abee",
   "metadata": {
    "id": "91212afb"
   },
   "outputs": [],
   "source": [
    "def error(omega, f, bc, f_real, plotty=True, max_N = 1200, step = 200):\n",
    "    \"\"\"\n",
    "    Function for plotting the error in resolution of PDE problem\n",
    "    as a function of discretization point.\n",
    "    \n",
    "    info: Given a one dimensional PDE of the form:\n",
    "    \n",
    "                            -u''(x) = f(x) , insiede boundary \n",
    "                            u(x) = 0 , in boundary\n",
    "                            \n",
    "          The function solves the problem using `solve_and_plot()`\n",
    "          \n",
    "    param: plotty => boolean :  True => Plot of the solution is performed. \n",
    "                                False => Plot of the solution is not performed.\n",
    "    \n",
    "    return: pandas dataframe with errors and iterations\n",
    "    \"\"\"\n",
    "    N = np.arange(50,max_N, step)\n",
    "    error_linf = zeros(shape(N)[0])\n",
    "    i = 0\n",
    "    for n in N:\n",
    "        x, f_solve = solve_and_plot(omega,f,n,bc,plotty=False)\n",
    "        error_linf[i] = max(abs(f_solve - f_real(x)))\n",
    "        i+=1\n",
    "    if(plotty):\n",
    "        plot(N, error_linf, label = \"${\\\\Vert \\\\cdot \\\\Vert}_{\\\\infty}$\")\n",
    "        xlabel(\"Iteration\", fontsize=15)\n",
    "        ylabel(\"Error\", fontsize=15)\n",
    "        legend()\n",
    "        yscale('log')\n",
    "        title(\"Error vs number of iteartions\", fontsize=18)\n",
    "        grid()\n",
    "    return pd.DataFrame({'Iteration':N, 'Error l infinity':error_linf})"
   ]
  },
  {
   "cell_type": "code",
   "execution_count": 143,
   "id": "e555f5c8",
   "metadata": {},
   "outputs": [
    {
     "data": {
      "text/html": [
       "<div>\n",
       "<style scoped>\n",
       "    .dataframe tbody tr th:only-of-type {\n",
       "        vertical-align: middle;\n",
       "    }\n",
       "\n",
       "    .dataframe tbody tr th {\n",
       "        vertical-align: top;\n",
       "    }\n",
       "\n",
       "    .dataframe thead th {\n",
       "        text-align: right;\n",
       "    }\n",
       "</style>\n",
       "<table border=\"1\" class=\"dataframe\">\n",
       "  <thead>\n",
       "    <tr style=\"text-align: right;\">\n",
       "      <th></th>\n",
       "      <th>Iteration</th>\n",
       "      <th>Error l infinity</th>\n",
       "    </tr>\n",
       "  </thead>\n",
       "  <tbody>\n",
       "    <tr>\n",
       "      <th>0</th>\n",
       "      <td>50</td>\n",
       "      <td>0.001578</td>\n",
       "    </tr>\n",
       "    <tr>\n",
       "      <th>1</th>\n",
       "      <td>250</td>\n",
       "      <td>0.000311</td>\n",
       "    </tr>\n",
       "    <tr>\n",
       "      <th>2</th>\n",
       "      <td>450</td>\n",
       "      <td>0.000172</td>\n",
       "    </tr>\n",
       "    <tr>\n",
       "      <th>3</th>\n",
       "      <td>650</td>\n",
       "      <td>0.000119</td>\n",
       "    </tr>\n",
       "    <tr>\n",
       "      <th>4</th>\n",
       "      <td>850</td>\n",
       "      <td>0.000091</td>\n",
       "    </tr>\n",
       "    <tr>\n",
       "      <th>5</th>\n",
       "      <td>1050</td>\n",
       "      <td>0.000074</td>\n",
       "    </tr>\n",
       "  </tbody>\n",
       "</table>\n",
       "</div>"
      ],
      "text/plain": [
       "   Iteration  Error l infinity\n",
       "0         50          0.001578\n",
       "1        250          0.000311\n",
       "2        450          0.000172\n",
       "3        650          0.000119\n",
       "4        850          0.000091\n",
       "5       1050          0.000074"
      ]
     },
     "execution_count": 143,
     "metadata": {},
     "output_type": "execute_result"
    },
    {
     "data": {
      "image/png": "[encoded data removed]",
      "text/plain": [
       "<Figure size 432x288 with 1 Axes>"
      ]
     },
     "metadata": {
      "needs_background": "light"
     },
     "output_type": "display_data"
    }
   ],
   "source": [
    "# Time to run ~ 2 mins\n",
    "omega = [0,1]\n",
    "bc = [0,0]\n",
    "f = lambda x : x*(1-x)\n",
    "f_real = lambda x: np.power(x,4) / 12 - np.power(x,3) / 6 + x / 12\n",
    "Table = error(omega, f, bc, f_real)\n",
    "Table"
   ]
  },
  {
   "cell_type": "markdown",
   "id": "0c1a9ebb",
   "metadata": {},
   "source": [
    "Compute the inverse of the matrix A exploiting the derived LU factorization"
   ]
  },
  {
   "cell_type": "code",
   "execution_count": 190,
   "id": "a1ad886c",
   "metadata": {},
   "outputs": [
    {
     "data": {
      "image/png": "[encoded data removed]",
      "text/plain": [
       "<Figure size 432x288 with 3 Axes>"
      ]
     },
     "metadata": {
      "needs_background": "light"
     },
     "output_type": "display_data"
    }
   ],
   "source": [
    "def inverse(A):\n",
    "    \"\"\"\n",
    "    Operating the inverse of a square non singular matrix eploiting LU factorization.\n",
    "    \n",
    "    input : A => numpy 2D array as square  matrix \n",
    "\n",
    "    return: inv_A => numpy 2D array as inverse of matrix A\n",
    "    \"\"\"\n",
    "    A = array(A, dtype = 'float64')   # defining A matrix \n",
    "    inv_A = zeros_like(A)             # defining inverse matrix\n",
    "    I = identity(shape(A)[0])         # defining identiry matrix\n",
    "    L, U, P = LU(A, pivoting=True)    # we just do one time LU factorization\n",
    "    \n",
    "    for k in range(shape(A)[0]):\n",
    "        # --- start solving the system using LU --- #\n",
    "        tmp = L_solve(L, matmul(I[:, k],P))\n",
    "        inv_A[:, k] = U_solve(U, tmp)\n",
    "        # --- end solving system using LU --- #\n",
    "    return inv_A\n",
    "\n",
    "omega = [0,pi]\n",
    "f = lambda x : sin(x)\n",
    "n=200\n",
    "bc = [0,0]\n",
    "A, b = finDif(omega, f, n, bc)\n",
    "A_inv = inverse(A)\n",
    "\n",
    "# Plotting the results\n",
    "figure, axes = subplots(nrows=1, ncols=3)\n",
    "_ = axes[0].matshow(A)\n",
    "axes[0].title.set_text('$A$')\n",
    "_ = axes[1].matshow(A_inv)\n",
    "axes[1].title.set_text('$A^{-1}$')\n",
    "_ = axes[2].matshow(A.dot(A_inv))\n",
    "axes[2].title.set_text('$AA^{-1}$')\n",
    "figure.tight_layout()"
   ]
  },
  {
   "cell_type": "markdown",
   "id": "56e6b20e",
   "metadata": {
    "id": "c8d5002f"
   },
   "source": [
    "Exploit the derived LU factorizations to compute the condition number of the system's matrix $A$ using the original problem formulation."
   ]
  },
  {
   "cell_type": "code",
   "execution_count": 191,
   "id": "f4c46575",
   "metadata": {
    "id": "c25fc1fe"
   },
   "outputs": [],
   "source": [
    "def condNumb(A):\n",
    "    \"\"\"\n",
    "    Compute the condition number of a matrix.\n",
    "\n",
    "    Additional: This function is capable of returning the condition number using \n",
    "                the l infinity norm,\n",
    "    \n",
    "    input : A => numpy 2D array as square  matrix \n",
    "\n",
    "    return: condNu => condition number of matrix A\n",
    "    \"\"\"\n",
    "    A = array(A)\n",
    "    A_inv = inverse(A)\n",
    "    condNu = max(sum(abs(A), axis=1))*max(sum(abs(A_inv), axis=1))\n",
    "    return condNu"
   ]
  },
  {
   "cell_type": "markdown",
   "id": "2aa31587",
   "metadata": {
    "id": "2728b49a"
   },
   "source": [
    "Implement a preconditioned Conjugant Gradient method to solve the original linear system of equations using an iterative method:"
   ]
  },
  {
   "cell_type": "code",
   "execution_count": 192,
   "id": "e0bccd85",
   "metadata": {
    "id": "62b83aee"
   },
   "outputs": [],
   "source": [
    "def conjugate_gradient(A, b, P = None, nmax=len(A), eps=1e-10, assumption = True):\n",
    "    \"\"\"\n",
    "    Operating conjugate gradient method on a symmetric positive\n",
    "    definite matrix A.\n",
    "    \n",
    "    info : The function works only for symmetric positive definite matrices. \n",
    "           The assumptions are checked before performing the operations, \n",
    "           optionally by setting `assumption = False` the assumption are \n",
    "           not checked, which could result in a gain in performance but \n",
    "           results could be wrong (nan or inf numbers).\n",
    "           \n",
    "    input : A => numpy 2D array as square matrix \n",
    "            b => numpy 1D array as right hand side of the system\n",
    "            nmax => number of iterations (default = len(A))\n",
    "            eps => error on each iteration (default 1e-10)\n",
    "    \n",
    "    param : asssumption => boolean :  True => Assumptions are checked. \n",
    "                                   False => Assumptions are not checked.\n",
    "                                   \n",
    "    return: x => numpy 1D array as solver of the system\n",
    "    \"\"\"\n",
    "    \n",
    "    if(assumption):\n",
    "        assert( shape(A)[0] == shape(A)[1] ), \"Invalid Operation, check 'info' by typing ?conjugate_gradient\"\n",
    "        assert( allclose( A, A.transpose() ) ), \"Matrix not symmetric, Conjugate Gradient algorithm aborted\"\n",
    "        _, U = LU(A, pivoting=False)\n",
    "        assert(all(diag(U) > 0)), \"Matrix not positive definite, Conjugate Gradient algorithm aborted\"\n",
    "        \n",
    "    if P is None:\n",
    "        P = identity(shape(A)[0])\n",
    "        \n",
    "    A = array(A, dtype = 'float64')\n",
    "    b = array(b, dtype = 'float64')\n",
    "    \n",
    "    x = zeros_like(A[0])\n",
    "    r = b - A.dot(x)\n",
    "    z = solve_system(P, r)\n",
    "    p = z\n",
    "    for k in range(1, nmax):\n",
    "        if linalg.norm(r) < eps:\n",
    "            break\n",
    "            \n",
    "        alpha = p.dot(r) / A.dot(p).dot(p)\n",
    "        x += alpha*p\n",
    "        r -= alpha*A.dot(p)\n",
    "        z = solve_system(P, r)\n",
    "        beta = A.dot(p).dot(z) / A.dot(p).dot(p)\n",
    "        p = z - beta*p\n",
    "        \n",
    "    return x"
   ]
  },
  {
   "cell_type": "code",
   "execution_count": 193,
   "id": "ebdad006",
   "metadata": {},
   "outputs": [],
   "source": [
    "# Small test on conjugate gradient: if everything works correctly no assertion is thrown \n",
    "omega = [0,pi]\n",
    "f = lambda x : sin(x)\n",
    "n=100\n",
    "bc = [0,0]\n",
    "A, b = finDif(omega, f, n, bc)\n",
    "\n",
    "assert(np.allclose(conjugate_gradient(A, b) - solve_system(A, b), np.zeros_like(b))), \"It doesn't work!!!\""
   ]
  },
  {
   "cell_type": "markdown",
   "id": "fbcd2fb7",
   "metadata": {
    "id": "8a4cfc02"
   },
   "source": [
    "Consider the following time dependent variation of the PDE starting from the orginal problem formulation:\n",
    "$$\n",
    "u'(t)-u_{xx} = \\alpha(t)f(x)\n",
    "$$\n",
    "\n",
    "for $t\\in [0,T]$, with $\\alpha(t) = \\cos(t)$ and $T = 6\\pi$\n",
    "\n",
    "Use the same finite difference scheme to derive the semi-discrete formulation and solve it using a forward Euler's method.\n",
    "\n",
    "Plot the time dependent solution solution at $x = \\pi/2$, $x=1$, \n",
    "$x=\\pi$\n"
   ]
  },
  {
   "cell_type": "code",
   "execution_count": null,
   "id": "855d8d82",
   "metadata": {
    "id": "3ffe0689"
   },
   "outputs": [],
   "source": [
    "#TODO"
   ]
  },
  {
   "cell_type": "markdown",
   "id": "c604a7bf",
   "metadata": {
    "id": "36936121"
   },
   "source": [
    "Given the original $Au = b$ system, implement an algorithm to compute the eigenvalues and eigenvectors of the matrix $A$. Exploit the computed LU factorization"
   ]
  },
  {
   "cell_type": "markdown",
   "id": "605a99a9",
   "metadata": {},
   "source": [
    "We first write the general power method, then we implement the search of eigenvalues (and eigenvectors) by looking at possible shifts in the Gershgorin circles. In what follows the are three functions:\n",
    "* `power()` => function implmenting the classic power method\n",
    "* `Build_Gershgorin_circles()` => function for building Gershgorin circles\n",
    "* `points_in_circles()` => function for finding normally distributed points in a circle\n",
    "* `Find_eig()` => function for finding eigenvalues and eigenvectors"
   ]
  },
  {
   "cell_type": "code",
   "execution_count": 205,
   "id": "98f14f62",
   "metadata": {},
   "outputs": [],
   "source": [
    "def power(A, shift = 0, tol = 1e-10, MAX_CYCLES = 6000):\n",
    "    \"\"\"\n",
    "    Operating inverse power method\n",
    "    \"\"\"\n",
    "    A = array(A, dtype = 'float64') - shift*identity(shape(A)[0])\n",
    "    A_inv = inverse(A)\n",
    "    L, U, P = LU(A, pivoting=True) # we just do one time LU factorization\n",
    "    x = random.rand(shape(A)[0])\n",
    "    y = x / linalg.norm(x)\n",
    "    eigval = 0.\n",
    "    cycle = 0;\n",
    "    while(cycle < MAX_CYCLES):\n",
    "        # --- start solving the system --- #\n",
    "        tmp = L_solve(L, matmul(y,P))\n",
    "        x = U_solve(U, tmp)\n",
    "        # --- end solving system --- #\n",
    "        y = x / linalg.norm(x) \n",
    "        eigval_tmp = 1. / dot(y, matmul( A_inv, y) )  + shift\n",
    "        if( abs( eigval_tmp - eigval ) < tol ):\n",
    "            return eigval_tmp, x\n",
    "                    \n",
    "        eigval = eigval_tmp\n",
    "        cycle += 1           \n",
    "    return eigval, x\n",
    "\n",
    "def Build_Gershgorin_circles(A):\n",
    "    \"\"\"\n",
    "    Function to calculate Gershgorin circles\n",
    "    \"\"\"\n",
    "    A = array(A, dtype = 'float64')\n",
    "    circles = []\n",
    "    circle_centers = diag(A)\n",
    "    row_radius = sum(A, axis = 1) - diag(A)\n",
    "    column_radius = sum(A, axis = 0) - diag(A)\n",
    "    circles = list(zip(circle_centers, row_radius)) + list(zip(circle_centers, column_radius))\n",
    "    return circles\n",
    "\n",
    "def points_in_circles(circle, N = 100):\n",
    "    \"\"\"\n",
    "    Operating random uniform points in a 1D circle\n",
    "    \"\"\"\n",
    "    center, radius = circle\n",
    "    x = random.uniform(center - radius, center + radius, N)\n",
    "    return x\n",
    "\n",
    "def Find_eig(A, N = 100, equal_tol = 1e-10):\n",
    "    \"\"\"\n",
    "    Opearting eigenvalue and eigenvector search\n",
    "    \"\"\"\n",
    "    circles = Build_Gershgorin_circles(A)\n",
    "    eigval = []\n",
    "    eigvect = []\n",
    "    for circle in circles:\n",
    "        for shift in points_in_circles(circle, N):\n",
    "            eigvalue, eigvector = power(A, shift, tol = equal_tol)\n",
    "            if(len(eigval)== 0):\n",
    "                eigval.append(eigvalue)\n",
    "                eigvect.append(eigvector)\n",
    "            if not any(isclose(eigval, eigvalue, atol=equal_tol*1000, rtol = 0)):\n",
    "                eigval.append(eigvalue)\n",
    "                eigvect.append(eigvector)\n",
    "                \n",
    "    if len(eigval) > A.shape[0]:\n",
    "        print(\"WARNING: Number of found eigenvalues greater than the dimension \"\n",
    "                      \"of the matrix, check spurious eigenvalues that \"\n",
    "                      \"should be discarded. \\n\")\n",
    "        \n",
    "    if len(eigval) < A.shape[0]:\n",
    "        print(\"WARNING: Number of found eigenvalues smaller than the dimension \"\n",
    "                      \"of the matrix, some eigenvalues are missing.\")\n",
    "        \n",
    "    return eigval, eigvect"
   ]
  },
  {
   "cell_type": "markdown",
   "id": "485a550d",
   "metadata": {},
   "source": [
    "Here a small test, it takes approximately 42.16 s to run"
   ]
  },
  {
   "cell_type": "code",
   "execution_count": 213,
   "id": "9e3320b7",
   "metadata": {},
   "outputs": [
    {
     "name": "stdout",
     "output_type": "stream",
     "text": [
      "WARNING: Number of found eigenvalues smaller than the dimension of the matrix, some eigenvalues are missing.\n",
      "Total time = 42.16 s\n"
     ]
    },
    {
     "data": {
      "image/png": "[encoded data removed]",
      "text/plain": [
       "<Figure size 432x288 with 1 Axes>"
      ]
     },
     "metadata": {
      "needs_background": "light"
     },
     "output_type": "display_data"
    }
   ],
   "source": [
    "omega = [0,pi]\n",
    "f = lambda x : sin(x)\n",
    "n=50\n",
    "bc = [0,0]\n",
    "A, b = finDif(omega, f, n, bc)\n",
    "\n",
    "random.seed(0) \n",
    "eigval, eigvect = Find_eig(A, N = 15, equal_tol=1e-12)\n",
    "\n",
    "# lets's check if everything is correct\n",
    "eig, _ = linalg.eig(A)\n",
    "\n",
    "# let's make a plot\n",
    "plot(sort(unique(eigval)), zeros_like(eigval), 'o', label= \"mine\")\n",
    "plot(sort(eig), zeros_like(eig), '*', label= \"numpy\")\n",
    "_=legend()"
   ]
  },
  {
   "cell_type": "markdown",
   "id": "e5de35ef",
   "metadata": {},
   "source": [
    "### Additional\n",
    "\n",
    "It is clear that the power method works correctly and very efficiently, however not all the eigenvalues/ eigenvectors are found. In particular the biggest eigenvalues are not found. One possible solution would be to include more random points in Gershgorin circles, however this can increment extremely the computational cost. Alternatively, for finding the biggest eigenvalue, one could use the directive power method to find the biggest eigenvalue. Another solution is now proposed.\n",
    "\n",
    "Since A is a symmetric, real and positive definite matrix the QR factorization can be exploit to calculate eigenvalues and eigenvector, as also stated in Chapter 6 of *Alfio Quarteroni, Fausto Saleri, and Paola Gervasio. 2016. Scientific Computing with MATLAB and Octave. Springer Publishing Company, Incorporated\" for details*. \n",
    "\n",
    "The QR factorization consits in finding a matrix Q orthogonal and R upper triangular matrix. If A is invertible, then the factorization is unique if we require the diagonal elements of R to be positive. The factorization is performed in `QR()` function using the Grand-Shmidt algorithm."
   ]
  },
  {
   "cell_type": "code",
   "execution_count": 217,
   "id": "556d6f5c",
   "metadata": {
    "id": "622aadf4"
   },
   "outputs": [],
   "source": [
    "def QR(A):\n",
    "    \"\"\"\n",
    "    Implementing QR factorization\n",
    "    \n",
    "    info: The following function implement the QR factorization\n",
    "          see \"Alfio Quarteroni, Fausto Saleri, and Paola Gervasio. 2016. \n",
    "               Scientific Computing with MATLAB and Octave. Springer Publishing \n",
    "               Company, Incorporated\" for details\".\n",
    "               \n",
    "    input: A => numpy 2D array as input matrix\n",
    "    \n",
    "    return: Q => numpy 2D array as orthogonal matrix (QT*Q = 1) \n",
    "            R => numpy 2D array as square upper triangular matrix\n",
    "    \"\"\"\n",
    "    A = array(A, dtype = 'float64')\n",
    "    R = zeros_like(A)\n",
    "    for j in range(shape(A)[0]):\n",
    "        R[j, j] = linalg.norm(A[:,j])\n",
    "        A[:, j] = A[:, j] / R[j, j]\n",
    "        for k in range(j+1, shape(A)[0]):\n",
    "            R[j, k] = dot(A[:,j], A[:,k])\n",
    "            A[:, k] -= A[:,j]*R[j, k]\n",
    "    return A, R\n",
    "\n",
    "def eigen(A, MAX_CYCLES = 5000):\n",
    "    \"\"\"\n",
    "    Calculating eigenvalue and eigenvector for symmetric real\n",
    "    positive definite matrices exploiting QR factorization.\n",
    "    \"\"\"\n",
    "    Q, R = QR(A)\n",
    "    S = Q\n",
    "    A = matmul(R, Q)\n",
    "    eig = diag(A)\n",
    "    for _ in range(MAX_CYCLES):\n",
    "        Q, R = QR(A)\n",
    "        S = matmul(S, Q)\n",
    "        A = matmul(R, Q)\n",
    "            \n",
    "    return diag(A), S"
   ]
  },
  {
   "cell_type": "markdown",
   "id": "6ff43d7a",
   "metadata": {},
   "source": [
    "Here a small test, it takes approximately 33.07 s to run"
   ]
  },
  {
   "cell_type": "code",
   "execution_count": 222,
   "id": "7be92202",
   "metadata": {
    "scrolled": true
   },
   "outputs": [
    {
     "data": {
      "text/plain": [
       "1.0686562745831907e-11"
      ]
     },
     "execution_count": 222,
     "metadata": {},
     "output_type": "execute_result"
    },
    {
     "data": {
      "image/png": "[encoded data removed]",
      "text/plain": [
       "<Figure size 432x288 with 1 Axes>"
      ]
     },
     "metadata": {
      "needs_background": "light"
     },
     "output_type": "display_data"
    }
   ],
   "source": [
    "# Original problem\n",
    "omega = [0,pi]\n",
    "f = lambda x : sin(x)\n",
    "n = 50\n",
    "# n=100 # more points increase the time to 137.38 s and max difference 0.0022\n",
    "bc = [0,0]\n",
    "A, b = finDif(omega, f, n, bc)\n",
    "\n",
    "eigval, eigvect = eigen(A)\n",
    "\n",
    "# lets's check if everything is correct\n",
    "eig, _ = linalg.eig(A)\n",
    "\n",
    "# let's make a plot\n",
    "plot(sort(unique(eigval)), zeros_like(eigval), 'o', label= \"mine\")\n",
    "plot(sort(eig), zeros_like(eig), '*', label= \"numpy\")\n",
    "_=legend()\n",
    "\n",
    "max(sort(eigval) - sort(eig)) # maximum difference between eigenvalues"
   ]
  },
  {
   "cell_type": "markdown",
   "id": "4fdd9096",
   "metadata": {},
   "source": [
    "As we can seen not only all the eigenvalues are found, but the computational time is on the same order as the LU factorization. Finally a remark, this method does not always converge since the matrix has to be symmetric. However, in case of the proposed finite element problem, it provides and efficient solution.\n",
    "\n"
   ]
  },
  {
   "cell_type": "markdown",
   "id": "01247f32",
   "metadata": {
    "id": "cb22566e"
   },
   "source": [
    "Consider the following Cauchy problem\n",
    "$$\n",
    "\\begin{cases}\n",
    "y'= -ty^2 \\quad 0\\le t \\le 2\\\\\n",
    "y(0) = 1\n",
    "\\end{cases}\n",
    "$$\n",
    "Implement a Backward Euler's method in a suitable function and solve the resulting non-linear equation using a Newton's method."
   ]
  },
  {
   "cell_type": "code",
   "execution_count": null,
   "id": "92bb1444",
   "metadata": {
    "id": "3184e358"
   },
   "outputs": [],
   "source": [
    "#TODO"
   ]
  }
 ],
 "metadata": {
  "colab": {
   "name": "FinalProject-2021-2022.ipynb",
   "provenance": []
  },
  "interpreter": {
   "hash": "aee8b7b246df8f9039afb4144a1f6fd8d2ca17a180786b69acc140d282b71a49"
  },
  "kernelspec": {
   "display_name": "Python 3 (ipykernel)",
   "language": "python",
   "name": "python3"
  },
  "language_info": {
   "codemirror_mode": {
    "name": "ipython",
    "version": 3
   },
   "file_extension": ".py",
   "mimetype": "text/x-python",
   "name": "python",
   "nbconvert_exporter": "python",
   "pygments_lexer": "ipython3",
   "version": "3.9.0"
  }
 },
 "nbformat": 4,
 "nbformat_minor": 5
}
